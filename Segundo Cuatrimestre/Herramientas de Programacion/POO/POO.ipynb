{
 "cells": [
  {
   "cell_type": "markdown",
   "id": "8c437314-eb17-4c65-82c7-107b41dde5cd",
   "metadata": {},
   "source": [
    "# Ejercicio 1\n",
    "\n",
    "Crear una clase denominada Cadena con los siguientes métodos:\n",
    "\n",
    "- reversa(): con la misma funcionalidad del ejercicio 2 de la práctica sobre cadenas.\n",
    "- estadistica(): ejercicio 1 de cadenas.\n",
    "- esPalindroma(): ejercicio 4 de cadenas.\n",
    "- limpia(): ejercicio 5 más el reemplazo de varios espacios contiguos por un espacio sólo.\n",
    "- leet_speak(): ejercicio 6 de cadenas.\n",
    "\r\n",
    "Incorporar el código de prueba de la clase."
   ]
  },
  {
   "cell_type": "code",
   "execution_count": 52,
   "id": "247be79e-259a-4267-9737-ce6898811f42",
   "metadata": {},
   "outputs": [],
   "source": [
    "class Cadena():\n",
    "    __contenido = \"\"\n",
    "\n",
    "    def __init__(self, contenido):\n",
    "        self.__contenido = contenido\n",
    "    \n",
    "    def reversa(self):\n",
    "        res = \"\" \n",
    "        for letra in self.__contenido:\n",
    "            res = letra + res  \n",
    "        return res\n",
    "    \n",
    "    def estadistica(self):\n",
    "        print(\"longitud: \", len(self.__contenido) )\n",
    "        print(\"2 primeros: \", self.__contenido[:2])\n",
    "        print(\"3 últimos: \", self.__contenido[-3:])\n",
    "   \n",
    "    def esPalindroma(self):\n",
    "        return self.__contenido.lower() == self.reversa().lower()\n",
    "    \n",
    "    def limpia(self):\n",
    "        res = self.__contenido.strip()\n",
    "        res = res.split()\n",
    "        res = \" \".join(res) \n",
    "        return res \n",
    "   \n",
    "    def leet_speak(self):\n",
    "        letters = [\"a\", \"e\", \"g\", \"i\", \"o\", \"s\", \"t\"]   \n",
    "        dicc = [\"4\",\"3\",\"6\",\"1\",\"0\",\"5\",\"7\"]\n",
    "        res = self.__contenido.lower()\n",
    "        \n",
    "        for i in range(0, len(letters)):\n",
    "            res = res.replace(letters[i], dicc[i])\n",
    "            \n",
    "        return res\n",
    "\n",
    "        "
   ]
  },
  {
   "cell_type": "markdown",
   "id": "214dad57-ff8f-429c-ae9b-c3631bba6c04",
   "metadata": {},
   "source": [
    "# Tests"
   ]
  },
  {
   "cell_type": "code",
   "execution_count": 55,
   "id": "25b2218e-2110-4c33-b0c1-799bc2500d1e",
   "metadata": {},
   "outputs": [
    {
     "name": "stdout",
     "output_type": "stream",
     "text": [
      "odnum aloH\n",
      "longitud:  10\n",
      "2 primeros:  Ho\n",
      "3 últimos:  ndo\n",
      "True\n",
      "False\n",
      "  r4p4r           r4p4r  \n",
      "h0l4 mund0\n",
      "Rapar RAPAR\n",
      "Hola mundo\n"
     ]
    }
   ],
   "source": [
    "#Creacion de una cadena\n",
    "\n",
    "cad = Cadena(\"Hola mundo\")\n",
    "\n",
    "#uso de reversa\n",
    "\n",
    "print(cad.reversa())\n",
    "\n",
    "#uso de estadistica \n",
    "\n",
    "cad.estadistica()\n",
    "\n",
    "#Creo palindromo\n",
    "\n",
    "palindromo = Cadena(\"  Rapar           RAPAR  \")\n",
    "\n",
    "#prueba palindromo\n",
    "\n",
    "print(palindromo.esPalindroma())\n",
    "print(cad.esPalindroma())\n",
    "\n",
    "#Prueba leet speak\n",
    "\n",
    "print(palindromo.leet_speak())\n",
    "print(cad.leet_speak())\n",
    "\n",
    "#prueba funcion limpia\n",
    "\n",
    "print(palindromo.limpia())\n",
    "print(cad.limpia())"
   ]
  },
  {
   "cell_type": "code",
   "execution_count": null,
   "id": "a8be0a71-3986-4cec-beae-0e80d753c97d",
   "metadata": {},
   "outputs": [],
   "source": []
  },
  {
   "cell_type": "code",
   "execution_count": null,
   "id": "66d4c285-88cd-4a98-a5fc-95da866f1352",
   "metadata": {},
   "outputs": [],
   "source": []
  }
 ],
 "metadata": {
  "kernelspec": {
   "display_name": "Python 3 (ipykernel)",
   "language": "python",
   "name": "python3"
  },
  "language_info": {
   "codemirror_mode": {
    "name": "ipython",
    "version": 3
   },
   "file_extension": ".py",
   "mimetype": "text/x-python",
   "name": "python",
   "nbconvert_exporter": "python",
   "pygments_lexer": "ipython3",
   "version": "3.11.7"
  }
 },
 "nbformat": 4,
 "nbformat_minor": 5
}

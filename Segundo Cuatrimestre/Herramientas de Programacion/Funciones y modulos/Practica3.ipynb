{
 "cells": [
  {
   "cell_type": "markdown",
   "id": "d2431591-0b4a-4f6c-b9a9-fa08fda7d6ec",
   "metadata": {},
   "source": [
    "### Ejercicio 1\n",
    "Desarrollar una función que reciba tres números enteros positivos y devuelva el\n",
    "mayor de los tres, sólo si éste es único (es decir el mayor estricto). Devolver None\n",
    "en caso de no haber ninguno. Desarrollar también un programa de prueba para\n",
    "ingresar los tres valores, invocar a la función y mostrar el máximo hallado, o un\n",
    "mensaje informativo si éste no existe."
   ]
  },
  {
   "cell_type": "code",
   "execution_count": 41,
   "id": "263ad256-7a5b-46e9-97c0-d07dddcc8073",
   "metadata": {},
   "outputs": [],
   "source": [
    "def mayor_entre_tres(a, b, c):\n",
    "    res = None\n",
    "    if(a > b and a > c):\n",
    "        res = a\n",
    "    if(b > a and b > c):\n",
    "        res = b\n",
    "    if(c > a and c >b):   \n",
    "        res = c\n",
    "        \n",
    "    return res \n"
   ]
  },
  {
   "cell_type": "markdown",
   "id": "63627a7e-e91f-4673-b53b-8854a8daf586",
   "metadata": {},
   "source": [
    "### Ejercicio 2\n",
    "\n",
    "Hacer una función que nos indique con verdadero o falso si una fecha ingresada en\n",
    "el formato día, mes, año es válida o inválida. Considerar que será conveniente\n",
    "hacer una función que verifique si un año es bisiesto, considerando que un año es\n",
    "bisiesto si es divisible por 4 pero no es divisible por 100, o en el caso que sea\n",
    "divisible por 400. Desarrollar el código para probarla."
   ]
  },
  {
   "cell_type": "code",
   "execution_count": null,
   "id": "fa8cebe2-ca78-42ec-af0d-3ef5417a5f02",
   "metadata": {},
   "outputs": [],
   "source": [
    "\n",
    "    "
   ]
  },
  {
   "cell_type": "code",
   "execution_count": null,
   "id": "bc5f959c-181d-41f0-b717-5dba02df8cd4",
   "metadata": {},
   "outputs": [],
   "source": []
  },
  {
   "cell_type": "code",
   "execution_count": null,
   "id": "07c81d63-47ec-4148-8517-5024be2480c9",
   "metadata": {},
   "outputs": [],
   "source": []
  },
  {
   "cell_type": "markdown",
   "id": "26d43f9e-950c-4104-97e9-cbc66abee3b7",
   "metadata": {},
   "source": [
    "### Ejercicio 4\n",
    "\n",
    "Una empresa necesita un programa para la tesorería que le proporcione al cajero el\n",
    "cambio exacto que debe entregarle al solicitante par pagar una serie de importes.\n",
    "Para eso se necesita desarrollar una función que reciba 2 listas, la primera con\n",
    "todos los importes que hay que abonar, la segunda con los valores de los billetes\n",
    "disponibles. Por ejemplo si hay que abonar [ 1320, 16350, 23280 ] y los importes\n",
    "disponibles son billetes [5000, 1000, 500, 200, 100, 50, 10]."
   ]
  },
  {
   "cell_type": "code",
   "execution_count": 39,
   "id": "6da290e6",
   "metadata": {},
   "outputs": [
    {
     "name": "stdout",
     "output_type": "stream",
     "text": [
      "Para el pago de:  1320  se deben entregar: \n",
      "1 billetes de:  1000 $ \n",
      "1 billetes de:  200 $ \n",
      "1 billetes de:  100 $ \n",
      "2 billetes de:  10 $ \n",
      "Para el pago de:  16350  se deben entregar: \n",
      "3 billetes de:  5000 $ \n",
      "1 billetes de:  1000 $ \n",
      "1 billetes de:  200 $ \n",
      "1 billetes de:  100 $ \n",
      "1 billetes de:  50 $ \n",
      "Para el pago de:  23280  se deben entregar: \n",
      "4 billetes de:  5000 $ \n",
      "3 billetes de:  1000 $ \n",
      "1 billetes de:  200 $ \n",
      "1 billetes de:  50 $ \n",
      "3 billetes de:  10 $ \n"
     ]
    }
   ],
   "source": [
    "def dar_vuelto(vuelto, billetes):\n",
    "    res = [i*0 for i in range(0, len(billetes))]\n",
    "    for i in range(0, len(billetes)):\n",
    "        res[i] = vuelto // billetes[i]\n",
    "        vuelto -= res[i] * billetes[i]\n",
    "    return res\n",
    "\n",
    "\n",
    "def mostrar_vueltos(pagos, billetes):\n",
    "    for j in range(0, len(pagos)):        \n",
    "        print(\"Para el pago de: \", pagos[j], \" se deben entregar: \")\n",
    "        res = dar_vuelto(pagos[j], billetes)\n",
    "        for i in range(0, len(billetes)):\n",
    "            if(res[i] != 0):\n",
    "                print(res[i], \"billetes de: \",billetes[i], \"$ \")\n",
    "                \n",
    "mostrar_vueltos([1320, 16350, 23280], [5000, 1000, 500, 200, 100, 50, 10])\n",
    "            \n",
    "\n",
    "      \n",
    "    "
   ]
  },
  {
   "cell_type": "markdown",
   "id": "76702f88-84b6-4608-8695-a13fe1c75a83",
   "metadata": {},
   "source": [
    "### Ejercicio 5\n",
    "Escribir una función que devuelva la cantidad de dígitos de un número entero, sin\n",
    "utilizar cadenas de caracteres."
   ]
  },
  {
   "cell_type": "code",
   "execution_count": 24,
   "id": "ba4d49f3-1808-4ea1-9f5f-9d5618a8eea2",
   "metadata": {},
   "outputs": [
    {
     "name": "stdout",
     "output_type": "stream",
     "text": [
      "3\n"
     ]
    }
   ],
   "source": [
    "def cantidad_digitos(num):\n",
    "    if num // 10 == 0:\n",
    "        return 1\n",
    "    else:\n",
    "        return 1 + cantidad_digitos(num // 10)\n",
    "\n",
    "print(cantidad_digitos(100))"
   ]
  },
  {
   "cell_type": "markdown",
   "id": "dd68c0f9-69fd-4a47-ae6c-34504878156e",
   "metadata": {},
   "source": [
    "### Ejercicio 6\n",
    "Desarrollar una función que devuelva el producto de dos números enteros por\n",
    "sumas sucesivas."
   ]
  },
  {
   "cell_type": "code",
   "execution_count": 28,
   "id": "227c71d1-f398-4df4-9124-088172ca8654",
   "metadata": {},
   "outputs": [
    {
     "name": "stdout",
     "output_type": "stream",
     "text": [
      "20\n"
     ]
    }
   ],
   "source": [
    "def producto_por_sumas(a, b):\n",
    "    if b == 0:\n",
    "        return 0\n",
    "    else:\n",
    "        return a + producto_por_sumas(a, b - 1)\n",
    "\n",
    "print(producto_por_sumas(4,5))"
   ]
  },
  {
   "cell_type": "markdown",
   "id": "acc14516-c83b-4651-b6cf-a96087e91b15",
   "metadata": {},
   "source": [
    "### Ejercicio 7\n",
    "\n",
    "Se definen los números triangulares TN como los obtenidos de sumar todos los\n",
    "números naturales sucesivos 1 + 2 + 3 + … + N. Por ejemplo T1 = 1, T2 = 3 ,T3= 6...\n",
    "etc. Realizar una función recursiva que muestre la sucesión de números\n",
    "triangulares desde T1 hasta TN"
   ]
  },
  {
   "cell_type": "code",
   "execution_count": 17,
   "id": "a3499002-999a-4ff6-9133-217770b749d2",
   "metadata": {},
   "outputs": [
    {
     "name": "stdout",
     "output_type": "stream",
     "text": [
      "1\n",
      "3\n",
      "6\n",
      "10\n",
      "15\n"
     ]
    },
    {
     "data": {
      "text/plain": [
       "15"
      ]
     },
     "execution_count": 17,
     "metadata": {},
     "output_type": "execute_result"
    }
   ],
   "source": [
    "def triangulares(n):\n",
    "    if n == 1:\n",
    "        print(1)\n",
    "        return 1\n",
    "    else:\n",
    "        suma = n + triangulares(n-1)\n",
    "        print(suma)\n",
    "        return suma\n",
    "\n",
    "triangulares(5)"
   ]
  },
  {
   "cell_type": "markdown",
   "id": "bf979883-a1a9-4860-9589-94ee1b587076",
   "metadata": {},
   "source": [
    "### Ejercicio 8\n",
    "\n",
    "Desarrollar una función que reciba un número en base decimal y lo devuelva\n",
    "transformado en base binaria."
   ]
  },
  {
   "cell_type": "code",
   "execution_count": null,
   "id": "8820b7c2-e073-43b7-a07f-52bbce56ff1d",
   "metadata": {},
   "outputs": [],
   "source": [
    "from math import pow\n",
    "def dec_to_bin(num):\n",
    "    if(num <= 1):\n",
    "        return 0\n",
    "    else:\n",
    "        return pow(10, bin_pow(num)) + dec_to_bin(num - 2**(bin_pow(num)))"
   ]
  },
  {
   "cell_type": "markdown",
   "id": "92506566-b597-4191-a92a-a3f667fa6cd8",
   "metadata": {},
   "source": [
    "### Ejercicio 9\n",
    "\n",
    "Ingrese el numerador y el denominador de un número fraccionario, devolver la\n",
    "fracción simplificada utilizando el algoritmo de euclides para encontrar el máximo\n",
    "común divisor. El algoritmo de euclides en forma recursiva es muy simple: siendo\n",
    "MCD(v1, v2):\n",
    "<ul> \n",
    "    <li>Si v1 es igual a v2 entonces el MCD es v1 (o v2)</li>\n",
    "    <li>Si v1 es mayor a v2 entonces es el MCD(v1-v2, v2)</li>\n",
    "    <li>Si v2 es mayor a v1 entonces es el MCD(v1, v2-v1)</li>\n",
    "</ul>"
   ]
  },
  {
   "cell_type": "code",
   "execution_count": 25,
   "id": "454bc1c7-d682-41b5-b80b-489ecfbf849a",
   "metadata": {},
   "outputs": [
    {
     "name": "stdout",
     "output_type": "stream",
     "text": [
      "(2, 1)\n"
     ]
    }
   ],
   "source": [
    "def mcd(v1, v2):\n",
    "    if v1 == v2:\n",
    "        return v1\n",
    "    elif(v1 > v2):\n",
    "        return mcd(v1 - v2, v2)\n",
    "    elif(v2 > v1):\n",
    "        return mcd(v1, v2 - v1)\n",
    "    \n",
    "def simplify_fraction(num, den):\n",
    "    if(1 == mcd(num, den)):\n",
    "        return (num, den)\n",
    "    else:\n",
    "        divisor = mcd(num, den)\n",
    "        return simplify_fraction(num//divisor, den//divisor) \n",
    "    \n",
    "print(simplify_fraction(4,2))\n",
    "        "
   ]
  },
  {
   "cell_type": "markdown",
   "id": "ee8b5e9f-fef3-473c-8e63-f4efda606655",
   "metadata": {},
   "source": [
    "### Ejercicio 10\n",
    "Crear un programa que simule el funcionamiento de una máquina tragamonedas con\n",
    "un crédito inicial de 1000 fichas. El funcionamiento básico del tragamonedas es el\n",
    "siguient\n",
    "\n",
    "<ul>\n",
    "    <li>Inicialmente el jugador indica cuánto de las fichas disponibles quiere jugar (apuesta) y se le resta esa cantidad de las fichas.</li>  \n",
    "    <li>El programa genera tres números al azar del 1 al 5 y los muestra en pantalla.</li>\n",
    "    <li>Si los tres números son distintos, el jugador no acumula nada por lo tanto perdió el valor apostado.</li>\n",
    "    <li>Si salen dos números iguales, el jugador acumula el doble de lo apostado.</li>\n",
    "    <li>Si salen tres números iguales, el jugador acumula lo apostado multiplicado por cinco.</li>\n",
    "    <li>Si todavía le quedan fichas, el jugador indica si quiere seguir jugando o se retira.</li>\n",
    "</ul>ao se\n",
    "retira."
   ]
  },
  {
   "cell_type": "code",
   "execution_count": 2,
   "id": "3816ce3b-2031-41cd-82cc-3e7c5f8e2b04",
   "metadata": {},
   "outputs": [],
   "source": [
    "import random\n",
    "\n",
    "fichas = 1000\n",
    "\n",
    "def obtener_numeros():\n",
    "    numeros = []\n",
    "    for i in range(0, 3):\n",
    "        numeros.append(random.randint(1, 5))\n",
    "    return numeros\n",
    "\n",
    "def apostar(apuesta):\n",
    "\n",
    "    numeros = obtener_numeros()\n",
    "\n",
    "    print(\"Obtuviste los siguientes numeros: \")\n",
    "    for num in numeros:\n",
    "        print(num)\n",
    "\n",
    "    \n",
    "    if numeros[0] == numeros[1] and numeros[1] == numeros[2]:\n",
    "        fichas = fichas - 5 * apuesta\n",
    "        \n",
    "    elif numeros[0] == numeros[1] or numeros[1] == numeros[2] or numeros[0] == numeros[2]: \n",
    "        fichas = 2 * apuesta + credito_inicial\n",
    "\n",
    "    else:\n",
    "        fichas = fichas - apuesta\n",
    "\n",
    "def jugar():\n",
    "\n",
    "    retirado = False\n",
    "    res = \"\"\n",
    "\n",
    "    while not(retirado) and fichas > 0:\n",
    "        \n",
    "        apuesta = int(input(\"ingrese la cantidad de fichas a apostar: \"))\n",
    "        \n",
    "        if (apuesta <= fichas):\n",
    "            print(\"Estas apostando: \", apuesta, \" fichas\")\n",
    "            res = apostar(apuesta)\n",
    "        else:\n",
    "            print(\"Error, no contas con esa cantidad de fichas, intente nuevamente\")\n",
    " \n",
    "    print(\"Juego finalizado, buena suerte!\")    \n",
    "        "
   ]
  },
  {
   "cell_type": "markdown",
   "id": "465f3c8d",
   "metadata": {},
   "source": [
    "### Ejercicio 11\n",
    "\n",
    "Crear una función que devuelva una lista que corresponda a un mazo de cartas\n",
    "españolas (del 1 al 12) sin comodines, la representación de cada carta será una\n",
    "tupla (palo, valor) por ejemplo el as de bastos se representa (‘bastos’, 1). Luego\n",
    "crear una función que mezcle el mazo al azar con la siguiente metodología: por\n",
    "cada carta del mazo intercambiarla por cualquiera al azar que se encuentre en\n",
    "cualquier posición. Devolver el mazo mezclado. Crear el código para demostrar la\n",
    "funcionalidad.\n",
    "\n"
   ]
  },
  {
   "cell_type": "code",
   "execution_count": 30,
   "id": "113cc459",
   "metadata": {},
   "outputs": [
    {
     "data": {
      "text/plain": [
       "[tuple['Espada', 4],\n",
       " tuple['Copa', 8],\n",
       " tuple['Oro', 3],\n",
       " tuple['Basto', 10],\n",
       " tuple['Espada', 11],\n",
       " tuple['Basto', 5],\n",
       " tuple['Copa', 3],\n",
       " tuple['Espada', 12],\n",
       " tuple['Copa', 2],\n",
       " tuple['Espada', 8],\n",
       " tuple['Basto', 2],\n",
       " tuple['Espada', 1],\n",
       " tuple['Oro', 5],\n",
       " tuple['Espada', 2],\n",
       " tuple['Basto', 11],\n",
       " tuple['Oro', 1],\n",
       " tuple['Espada', 10],\n",
       " tuple['Basto', 6],\n",
       " tuple['Copa', 7],\n",
       " tuple['Copa', 9],\n",
       " tuple['Copa', 5],\n",
       " tuple['Oro', 6],\n",
       " tuple['Copa', 4],\n",
       " tuple['Oro', 10],\n",
       " tuple['Copa', 12],\n",
       " tuple['Basto', 7],\n",
       " tuple['Basto', 4],\n",
       " tuple['Copa', 11],\n",
       " tuple['Espada', 5],\n",
       " tuple['Basto', 1],\n",
       " tuple['Basto', 8],\n",
       " tuple['Copa', 6],\n",
       " tuple['Oro', 2],\n",
       " tuple['Copa', 10],\n",
       " tuple['Oro', 7],\n",
       " tuple['Oro', 11],\n",
       " tuple['Oro', 4],\n",
       " tuple['Oro', 8],\n",
       " tuple['Espada', 9],\n",
       " tuple['Basto', 12],\n",
       " tuple['Basto', 3],\n",
       " tuple['Copa', 1],\n",
       " tuple['Espada', 3],\n",
       " tuple['Oro', 12],\n",
       " tuple['Oro', 9],\n",
       " tuple['Espada', 6],\n",
       " tuple['Espada', 7],\n",
       " tuple['Basto', 9]]"
      ]
     },
     "execution_count": 30,
     "metadata": {},
     "output_type": "execute_result"
    }
   ],
   "source": [
    "import random\n",
    "\n",
    "def obtener_mazo():\n",
    "    res = []\n",
    "    for palo in [\"Basto\", \"Copa\", \"Espada\", \"Oro\"]:\n",
    "        for i in range(1, 13):\n",
    "            res.append(tuple[palo, i])\n",
    "    return res\n",
    "\n",
    "def mezclar():\n",
    "    mazo = obtener_mazo()\n",
    "    for i in range(0, len(mazo)):\n",
    "        j = random.randint(0, len(mazo) - 1)\n",
    "        temp = mazo[i]\n",
    "        mazo[i] = mazo[j]\n",
    "        mazo[j] = temp\n",
    "    \n",
    "    return mazo\n",
    "\n",
    "mezclar() \n"
   ]
  },
  {
   "cell_type": "code",
   "execution_count": null,
   "id": "47e43c9d",
   "metadata": {},
   "outputs": [],
   "source": []
  }
 ],
 "metadata": {
  "kernelspec": {
   "display_name": "Python 3 (ipykernel)",
   "language": "python",
   "name": "python3"
  },
  "language_info": {
   "codemirror_mode": {
    "name": "ipython",
    "version": 3
   },
   "file_extension": ".py",
   "mimetype": "text/x-python",
   "name": "python",
   "nbconvert_exporter": "python",
   "pygments_lexer": "ipython3",
   "version": "3.12.2"
  }
 },
 "nbformat": 4,
 "nbformat_minor": 5
}

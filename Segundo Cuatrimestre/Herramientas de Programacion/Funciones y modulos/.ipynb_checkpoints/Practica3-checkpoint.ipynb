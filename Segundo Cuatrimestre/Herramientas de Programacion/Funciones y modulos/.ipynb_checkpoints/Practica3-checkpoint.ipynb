{
 "cells": [
  {
   "cell_type": "markdown",
   "id": "d2431591-0b4a-4f6c-b9a9-fa08fda7d6ec",
   "metadata": {},
   "source": [
    "### Ejercicio 1\n",
    "Desarrollar una función que reciba tres números enteros positivos y devuelva el\r\n",
    "mayor de los tres, sólo si éste es único (es decir el mayor estricto). Devolver None\r\n",
    "en caso de no haber ninguno. Desarrollar también un programa de prueba para\r\n",
    "ingresar los tres valores, invocar a la función y mostrar el máximo hallado, o un\r\n",
    "mensaje informativo si éste no existe."
   ]
  },
  {
   "cell_type": "code",
   "execution_count": null,
   "id": "263ad256-7a5b-46e9-97c0-d07dddcc8073",
   "metadata": {},
   "outputs": [],
   "source": []
  },
  {
   "cell_type": "code",
   "execution_count": null,
   "id": "63627a7e-e91f-4673-b53b-8854a8daf586",
   "metadata": {},
   "outputs": [],
   "source": []
  },
  {
   "cell_type": "code",
   "execution_count": null,
   "id": "fa8cebe2-ca78-42ec-af0d-3ef5417a5f02",
   "metadata": {},
   "outputs": [],
   "source": []
  },
  {
   "cell_type": "code",
   "execution_count": null,
   "id": "bc5f959c-181d-41f0-b717-5dba02df8cd4",
   "metadata": {},
   "outputs": [],
   "source": []
  },
  {
   "cell_type": "code",
   "execution_count": null,
   "id": "07c81d63-47ec-4148-8517-5024be2480c9",
   "metadata": {},
   "outputs": [],
   "source": []
  },
  {
   "cell_type": "code",
   "execution_count": null,
   "id": "26d43f9e-950c-4104-97e9-cbc66abee3b7",
   "metadata": {},
   "outputs": [],
   "source": []
  },
  {
   "cell_type": "markdown",
   "id": "76702f88-84b6-4608-8695-a13fe1c75a83",
   "metadata": {},
   "source": [
    "### Ejercicio 5\n",
    "Escribir una función que devuelva la cantidad de dígitos de un número entero, sin\r\n",
    "utilizar cadenas de caracteres."
   ]
  },
  {
   "cell_type": "code",
   "execution_count": 24,
   "id": "ba4d49f3-1808-4ea1-9f5f-9d5618a8eea2",
   "metadata": {},
   "outputs": [
    {
     "name": "stdout",
     "output_type": "stream",
     "text": [
      "3\n"
     ]
    }
   ],
   "source": [
    "def cantidad_digitos(num):\n",
    "    if num // 10 == 0:\n",
    "        return 1\n",
    "    else:\n",
    "        return 1 + cantidad_digitos(num // 10)\n",
    "\n",
    "print(cantidad_digitos(100))"
   ]
  },
  {
   "cell_type": "markdown",
   "id": "dd68c0f9-69fd-4a47-ae6c-34504878156e",
   "metadata": {},
   "source": [
    "### Ejercicio 6\n",
    "Desarrollar una función que devuelva el producto de dos números enteros por\n",
    "sumas sucesivas."
   ]
  },
  {
   "cell_type": "code",
   "execution_count": 28,
   "id": "227c71d1-f398-4df4-9124-088172ca8654",
   "metadata": {},
   "outputs": [
    {
     "name": "stdout",
     "output_type": "stream",
     "text": [
      "20\n"
     ]
    }
   ],
   "source": [
    "def producto_por_sumas(a, b):\n",
    "    if b == 0:\n",
    "        return 0\n",
    "    else:\n",
    "        return a + producto_por_sumas(a, b - 1)\n",
    "\n",
    "print(producto_por_sumas(4,5))"
   ]
  },
  {
   "cell_type": "code",
   "execution_count": null,
   "id": "acc14516-c83b-4651-b6cf-a96087e91b15",
   "metadata": {},
   "outputs": [],
   "source": []
  },
  {
   "cell_type": "code",
   "execution_count": null,
   "id": "a3499002-999a-4ff6-9133-217770b749d2",
   "metadata": {},
   "outputs": [],
   "source": []
  },
  {
   "cell_type": "code",
   "execution_count": null,
   "id": "bf979883-a1a9-4860-9589-94ee1b587076",
   "metadata": {},
   "outputs": [],
   "source": []
  },
  {
   "cell_type": "code",
   "execution_count": null,
   "id": "8820b7c2-e073-43b7-a07f-52bbce56ff1d",
   "metadata": {},
   "outputs": [],
   "source": []
  },
  {
   "cell_type": "code",
   "execution_count": null,
   "id": "92506566-b597-4191-a92a-a3f667fa6cd8",
   "metadata": {},
   "outputs": [],
   "source": []
  },
  {
   "cell_type": "code",
   "execution_count": null,
   "id": "454bc1c7-d682-41b5-b80b-489ecfbf849a",
   "metadata": {},
   "outputs": [],
   "source": []
  },
  {
   "cell_type": "code",
   "execution_count": null,
   "id": "0b1dd108-8b37-4437-8667-8934e72456ee",
   "metadata": {},
   "outputs": [],
   "source": []
  },
  {
   "cell_type": "code",
   "execution_count": null,
   "id": "42602e84-f879-4b70-8876-bc0986180918",
   "metadata": {},
   "outputs": [],
   "source": []
  },
  {
   "cell_type": "code",
   "execution_count": null,
   "id": "f9c72ca2-d707-4d3e-9d03-237828090930",
   "metadata": {},
   "outputs": [],
   "source": []
  },
  {
   "cell_type": "code",
   "execution_count": null,
   "id": "55f6ac8b-fee8-44d4-a435-7ba8fd4868b2",
   "metadata": {},
   "outputs": [],
   "source": []
  },
  {
   "cell_type": "code",
   "execution_count": null,
   "id": "f4244362-5a55-4791-b22b-d08e94475e47",
   "metadata": {},
   "outputs": [],
   "source": []
  },
  {
   "cell_type": "markdown",
   "id": "ee8b5e9f-fef3-473c-8e63-f4efda606655",
   "metadata": {},
   "source": [
    "### Ejercicio 10\n",
    "Crear un programa que simule el funcionamiento de una máquina tragamonedas con\r\n",
    "un crédito inicial de 1000 fichas. El funcionamiento básico del tragamonedas es el\r\n",
    "siguient\n",
    "\n",
    "<ul>\n",
    "    <li>Inicialmente el jugador indica cuánto de las fichas disponibles quiere jugar (apuesta) y se le resta esa cantidad de las fichas.</li>  \n",
    "    <li>El programa genera tres números al azar del 1 al 5 y los muestra en pantalla.</li>\n",
    "    <li>Si los tres números son distintos, el jugador no acumula nada por lo tanto perdió el valor apostado.</li>\n",
    "    <li>Si salen dos números iguales, el jugador acumula el doble de lo apostado.</li>\n",
    "    <li>Si salen tres números iguales, el jugador acumula lo apostado multiplicado por cinco.</li>\n",
    "    <li>Si todavía le quedan fichas, el jugador indica si quiere seguir jugando o se retira.</li>\n",
    "</ul>ao se\r\n",
    "retira."
   ]
  },
  {
   "cell_type": "code",
   "execution_count": 6,
   "id": "3816ce3b-2031-41cd-82cc-3e7c5f8e2b04",
   "metadata": {},
   "outputs": [],
   "source": [
    "import random\n",
    "\n",
    "fichas = 1000\n",
    "\n",
    "def obtener_numeros():\n",
    "    numeros = []\n",
    "    for i in range(0, 3):\n",
    "        numeros.append(random.randint(1, 5))\n",
    "    return numeros\n",
    "\n",
    "def apostar(apuesta):\n",
    "\n",
    "    numeros = obtener_numeros()\n",
    "\n",
    "    print(\"Obtuviste los siguientes numeros: \")\n",
    "    for num in numeros:\n",
    "        print(num)\n",
    "\n",
    "    \n",
    "    if numeros[0] == numeros[1] and numeros[1] == numeros[2]:\n",
    "        fichas = fichas - 5 * apuesta\n",
    "        \n",
    "    elif numeros[0] == numeros[1] or numeros[1] == numeros[2] or numeros[0] == numeros[2]: \n",
    "        fichas = 2 * apuesta + credito_inicial\n",
    "\n",
    "    else:\n",
    "        fichas = fichas - apuesta\n",
    "\n",
    "def jugar():\n",
    "\n",
    "    retirado = False\n",
    "    res = \"\"\n",
    "\n",
    "    while not(retirado) and fichas > 0:\n",
    "        \n",
    "        apuesta = int(input(\"ingrese la cantidad de fichas a apostar: \"))\n",
    "        \n",
    "        if (apuesta <= fichas):\n",
    "            print(\"Estas apostando: \", apuesta, \" fichas\")\n",
    "            res = apostar(apuesta)\n",
    "        else:\n",
    "            print(\"Error, no contas con esa cantidad de fichas, intente nuevamente\")\n",
    " \n",
    "    print(\"Juego finalizado, buena suerte!\")    \n",
    "        "
   ]
  }
 ],
 "metadata": {
  "kernelspec": {
   "display_name": "Python 3 (ipykernel)",
   "language": "python",
   "name": "python3"
  },
  "language_info": {
   "codemirror_mode": {
    "name": "ipython",
    "version": 3
   },
   "file_extension": ".py",
   "mimetype": "text/x-python",
   "name": "python",
   "nbconvert_exporter": "python",
   "pygments_lexer": "ipython3",
   "version": "3.11.7"
  }
 },
 "nbformat": 4,
 "nbformat_minor": 5
}

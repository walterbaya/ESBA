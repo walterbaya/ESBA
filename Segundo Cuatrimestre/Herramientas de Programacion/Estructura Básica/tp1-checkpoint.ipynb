{
 "cells": [
  {
   "cell_type": "markdown",
   "id": "d6509cba-f78a-457f-bb5b-6bd329af4d76",
   "metadata": {},
   "source": [
    "# Trabajo practico 1"
   ]
  },
  {
   "cell_type": "markdown",
   "id": "fadeec5a-a8af-4daa-9275-4da4fb3cfdd8",
   "metadata": {},
   "source": [
    "## Ejercicio 4\n",
    "\n",
    "Realizar un programa que permita el ingreso de un conjunto indeterminado de datos\r\n",
    "numéricos (sin incluir el cero) y obteng:\n",
    "\n",
    "- El mayor de los números negativo\n",
    "- >El menor de los números positiv\n",
    "- >El promedio de todos los valores ingresados (sin incluir el )."
   ]
  },
  {
   "cell_type": "code",
   "execution_count": 15,
   "id": "3a104e54-6c6c-4414-8a5c-5e0fbbd20639",
   "metadata": {},
   "outputs": [
    {
     "name": "stdin",
     "output_type": "stream",
     "text": [
      "Ingrese un número distinto de 0 o 0 para finalizar 1\n",
      "Ingrese un número distinto de 0 o 0 para finalizar 2\n",
      "Ingrese un número distinto de 0 o 0 para finalizar 0\n"
     ]
    },
    {
     "name": "stdout",
     "output_type": "stream",
     "text": [
      "No se ingresaron números negativos, pero el menor positivo es:  1\n",
      "El promedio de los números es:  1.5\n"
     ]
    }
   ],
   "source": [
    "number = int(input(\"Ingrese un número distinto de 0 o 0 para finalizar\"))\n",
    "\n",
    "minPositive = 0\n",
    "maxNegative = 0\n",
    "acum = number\n",
    "i = 0\n",
    "\n",
    "while(number != 0):\n",
    "    i+=1\n",
    "    if(number > 0):\n",
    "        if(minPositive == 0):\n",
    "            minPositive = number\n",
    "        if(number < minPositive):\n",
    "            minPositive = number\n",
    "    else: \n",
    "        if(maxNegative == 0):\n",
    "            maxNegative = number\n",
    "        if(number > maxNegative):\n",
    "            maxNegative = number\n",
    "    number = int(input(\"Ingrese un número distinto de 0 o 0 para finalizar\"))\n",
    "    acum += number\n",
    "    \n",
    "\n",
    "average = acum / i\n",
    "\n",
    "if(maxNegative == 0 and minPositive == 0):\n",
    "    print(\"No se ingresaron números distintos a 0\")\n",
    "elif(maxNegative == 0 and minPositive != 0):\n",
    "    print(\"No se ingresaron números negativos, pero el menor positivo es: \", minPositive)\n",
    "elif(minPositive == 0 and maxNegative != 0):\n",
    "    print(\"No se ingresaron números positivos, pero el mayor negativo es: \", maxNegative)\n",
    "    \n",
    "else:\n",
    "    print(\"Pero el mayor negativo es: \", maxNegative, \"Pero el menor positivo es: \", minPositive)\n",
    "\n",
    "print(\"El promedio de los números es: \", average)\n"
   ]
  },
  {
   "cell_type": "markdown",
   "id": "b52439cb-23e6-423f-9717-9254123c0d04",
   "metadata": {},
   "source": [
    "## Ejercicio 5\n",
    "\n"
   ]
  },
  {
   "cell_type": "code",
   "execution_count": null,
   "id": "79ebf6ab-7975-416a-bd16-1a6a6eca6f99",
   "metadata": {},
   "outputs": [],
   "source": []
  },
  {
   "cell_type": "markdown",
   "id": "7102ac2c-6a0a-4f3c-abde-ee4eb8c404f6",
   "metadata": {},
   "source": [
    "## Ejercicio 6\n",
    "\n",
    "Realizar un programa que muestre por pantalla todos los Nº primos existentes entre\r\n",
    "dos números enteros ingresados                 i\n",
    "\n",
    "- Verificar que ambos números sean enteros positivos mayores que la unidad\n",
    "- Considerar que un número primo es aquel que posee solamente dos divisores\n",
    "  enteros positivos: el 1 y el mismo número\n",
    "- Para reducir el costo del algoritmo considerar que si el número no es divisible \n",
    "  por dos no será divisible por ningún número par, además si no se encuentra\n",
    "  ningún divisor entero antes de la raíz cuadrada del número se puede descartar\n",
    "  que no se hallará ningún divisor mayor a la raíz cuadrada\n",
    "uadrada.\n",
    "\n"
   ]
  },
  {
   "cell_type": "code",
   "execution_count": 45,
   "id": "c382b434-7a12-4bfb-935f-cbb0318d72c5",
   "metadata": {},
   "outputs": [
    {
     "name": "stdin",
     "output_type": "stream",
     "text": [
      "Ingrese el primer número 2\n",
      "Ingrese el segundo número 7\n"
     ]
    },
    {
     "name": "stdout",
     "output_type": "stream",
     "text": [
      "Los primos entre:  2  y  7  son: \n",
      "2\n",
      "3\n",
      "5\n"
     ]
    }
   ],
   "source": [
    "def isPrime(num):\n",
    "    res = True\n",
    "    if(num % 2 == 0 and num != 2):\n",
    "        res = False\n",
    "    else:\n",
    "        for i in range(3, int(num**(1/2)) + 1, 2):\n",
    "            if(num % i == 0):\n",
    "                res = False\n",
    "                break\n",
    "    return res\n",
    "\n",
    "num1 = int(input(\"Ingrese el primer número\"))\n",
    "num2 = int(input(\"Ingrese el segundo número\"))\n",
    "\n",
    "if(num1 > 1 and num2 > 1):  \n",
    "    if(num2 < num1):  '''Vamos a asegurarnos de que num1 <= num2 siempre'''\n",
    "        aux = num1\n",
    "        num1 = num2\n",
    "        num2 = aux\n",
    "\n",
    "    print(\"Los primos entre: \", num1, \" y \", num2, \" son: \")\n",
    "    for num in range(num1, num2, 1):\n",
    "        if(isPrime(num)):\n",
    "            print(num)\n",
    "            \n",
    "else:\n",
    "    print(\"Error, alguno de los números ingresados es menor o igual a 1\")"
   ]
  },
  {
   "cell_type": "code",
   "execution_count": 42,
   "id": "f4ad5f94-b25d-4d13-8f81-67b01fc49b2a",
   "metadata": {},
   "outputs": [
    {
     "name": "stdout",
     "output_type": "stream",
     "text": [
      "2\n"
     ]
    }
   ],
   "source": []
  },
  {
   "cell_type": "code",
   "execution_count": null,
   "id": "03cff65f-895c-4a4d-964a-c2c0bbb0aedb",
   "metadata": {},
   "outputs": [],
   "source": []
  }
 ],
 "metadata": {
  "kernelspec": {
   "display_name": "Python 3 (ipykernel)",
   "language": "python",
   "name": "python3"
  },
  "language_info": {
   "codemirror_mode": {
    "name": "ipython",
    "version": 3
   },
   "file_extension": ".py",
   "mimetype": "text/x-python",
   "name": "python",
   "nbconvert_exporter": "python",
   "pygments_lexer": "ipython3",
   "version": "3.11.7"
  }
 },
 "nbformat": 4,
 "nbformat_minor": 5
}

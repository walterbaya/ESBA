{
 "cells": [
  {
   "cell_type": "markdown",
   "metadata": {},
   "source": [
    "### Ejercicio 1\n",
    "\n",
    "Crear una lista con los cuadrados de los números entre 1 y N (ambos incluidos),\n",
    "donde N se ingresa desde el teclado. Luego se solicita imprimir los últimos 10\n",
    "valores de la lista utilizando segmentación de listas."
   ]
  },
  {
   "cell_type": "code",
   "execution_count": 10,
   "metadata": {},
   "outputs": [
    {
     "name": "stdin",
     "output_type": "stream",
     "text": [
      "Ingrese el número N 20\n"
     ]
    },
    {
     "name": "stdout",
     "output_type": "stream",
     "text": [
      "[121, 144, 169, 196, 225, 256, 289, 324, 361, 400]\n"
     ]
    }
   ],
   "source": [
    "N = int(input(\"Ingrese el número N\"))\n",
    "lista = []\n",
    "for i in range(1, N + 1):\n",
    "    lista.append(i**2)\n",
    "\n",
    "print(lista[N - 10 : N])\n",
    "    "
   ]
  },
  {
   "cell_type": "markdown",
   "metadata": {
    "vscode": {
     "languageId": "plaintext"
    }
   },
   "source": [
    "### Ejercicio 2 \n",
    "\n",
    "Eliminar de una lista de palabras las palabras que se encuentren en una segunda\n",
    "lista. Imprimir la lista original, la lista de palabras a eliminar y la lista resultante."
   ]
  },
  {
   "cell_type": "code",
   "execution_count": 17,
   "metadata": {
    "vscode": {
     "languageId": "plaintext"
    }
   },
   "outputs": [
    {
     "name": "stdout",
     "output_type": "stream",
     "text": [
      "['homero', 'gato', 'horrible']\n"
     ]
    }
   ],
   "source": [
    "palabras = [\"homero\", \"gato\", \"horrible\", \"gris\", \"blanco\"]\n",
    "palabras_a_borrar = [\"gris\", \"blanco\"]\n",
    "i = 0\n",
    "while i < len(palabras_a_borrar):\n",
    "    palabras.remove(palabras_a_borrar[i])\n",
    "    i = i + 1\n",
    "print(palabras)\n",
    "    "
   ]
  },
  {
   "cell_type": "markdown",
   "metadata": {},
   "source": [
    "### Ejercicio 3 \n",
    "\n",
    "Intercalar los elementos de una lista entre los elementos de otra. La intercalación\n",
    "deberá realizarse exclusivamente mediante la técnica de rebanadas y no se creará\n",
    "una lista nueva sino que se modificará la primera. Por ejemplo, si lista1 = [8, 1, 3] y\n",
    "lista2 =[5,9,7], lista1 deberá quedar como [8,5,1,9,3,7]."
   ]
  },
  {
   "cell_type": "code",
   "execution_count": null,
   "metadata": {
    "vscode": {
     "languageId": "plaintext"
    }
   },
   "outputs": [],
   "source": []
  },
  {
   "cell_type": "markdown",
   "metadata": {},
   "source": [
    "### Ejercicio 4\n",
    "\n",
    "Utilizar la técnica de listas por comprensión para construir una lista con todos los\n",
    "números impares comprendidos entre 100 y 200."
   ]
  },
  {
   "cell_type": "code",
   "execution_count": 18,
   "metadata": {
    "vscode": {
     "languageId": "plaintext"
    }
   },
   "outputs": [
    {
     "name": "stdout",
     "output_type": "stream",
     "text": [
      "[101, 103, 105, 107, 109, 111, 113, 115, 117, 119, 121, 123, 125, 127, 129, 131, 133, 135, 137, 139, 141, 143, 145, 147, 149, 151, 153, 155, 157, 159, 161, 163, 165, 167, 169, 171, 173, 175, 177, 179, 181, 183, 185, 187, 189, 191, 193, 195, 197, 199]\n"
     ]
    }
   ],
   "source": [
    "lista = [i for i in range(100, 201) if i % 2 != 0]\n",
    "print(lista)"
   ]
  },
  {
   "cell_type": "markdown",
   "metadata": {},
   "source": [
    "### Ejercicio 5\n",
    "\n",
    "Generar e imprimir una lista por comprensión entre A y B con los múltiplos de 7 que\r\n",
    "no sean múltiplos de 5. A y B se ingresan desde el teclado."
   ]
  },
  {
   "cell_type": "code",
   "execution_count": 20,
   "metadata": {},
   "outputs": [
    {
     "name": "stdin",
     "output_type": "stream",
     "text": [
      "Ingrese A 1\n",
      "Ingrese B 100\n"
     ]
    },
    {
     "name": "stdout",
     "output_type": "stream",
     "text": [
      "[7, 14, 21, 28, 42, 49, 56, 63, 77, 84, 91, 98]\n"
     ]
    }
   ],
   "source": [
    "A = int(input(\"Ingrese A\"))\n",
    "B = int(input(\"Ingrese B\"))\n",
    "\n",
    "lista = [i for i in range(A, B + 1) if i % 7 == 0 and i % 5 != 0]\n",
    "print(lista)"
   ]
  },
  {
   "cell_type": "markdown",
   "metadata": {},
   "source": [
    "### Ejercicio 6"
   ]
  },
  {
   "cell_type": "code",
   "execution_count": null,
   "metadata": {},
   "outputs": [],
   "source": []
  },
  {
   "cell_type": "markdown",
   "metadata": {},
   "source": [
    "### Ejercicio 7\n",
    "\n",
    "Suma de Filas y Columnas: crear una matriz de cualquier tamaño y obtener\r\n",
    "mediante código una lista con la suma de cada fila y otra lista con la suma de cada\r\n",
    "columna."
   ]
  },
  {
   "cell_type": "code",
   "execution_count": 27,
   "metadata": {},
   "outputs": [
    {
     "name": "stdout",
     "output_type": "stream",
     "text": [
      "[3, 6, 6]\n",
      "[4, 5, 6]\n"
     ]
    }
   ],
   "source": [
    "matriz = [[1,1,1], [2,2,2],[1,2,3]]\n",
    "suma_fila = [0,0,0]\n",
    "suma_columna = [0,0,0]\n",
    "\n",
    "for i in range(0, len(matriz)):\n",
    "    for j in range(0, len(matriz[0])):\n",
    "        suma_fila[i] = suma_fila[i] + matriz[i][j]\n",
    "\n",
    "for i in range(0, len(matriz)):\n",
    "    for j in range(0, len(matriz[0])):\n",
    "        suma_columna[j] = suma_columna[j] + matriz[i][j]\n",
    "\n",
    "print(suma_fila)\n",
    "print(suma_columna)"
   ]
  },
  {
   "cell_type": "markdown",
   "metadata": {},
   "source": [
    "### Ejercicio 8\n",
    "Mayor Elemento por Columna: crear una matriz de cualquier tamaño y obtener\r\n",
    "mediante código una lista con los mayores elementos de cada columna."
   ]
  },
  {
   "cell_type": "code",
   "execution_count": null,
   "metadata": {},
   "outputs": [],
   "source": []
  }
 ],
 "metadata": {
  "kernelspec": {
   "display_name": "Python 3 (ipykernel)",
   "language": "python",
   "name": "python3"
  },
  "language_info": {
   "codemirror_mode": {
    "name": "ipython",
    "version": 3
   },
   "file_extension": ".py",
   "mimetype": "text/x-python",
   "name": "python",
   "nbconvert_exporter": "python",
   "pygments_lexer": "ipython3",
   "version": "3.11.7"
  }
 },
 "nbformat": 4,
 "nbformat_minor": 4
}

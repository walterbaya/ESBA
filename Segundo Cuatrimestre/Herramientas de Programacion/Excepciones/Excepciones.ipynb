{
 "cells": [
  {
   "cell_type": "markdown",
   "id": "306d0ea8-cc0b-460d-90bc-1bb5678574cc",
   "metadata": {},
   "source": [
    "# Excepciones 1 \n",
    "\n",
    "Desarrollar una función para que reciba una cadena de tipo “DD-MM-AAAA” que\n",
    "representa una fecha. La función rechazará cualquier ingreso inválido de datos\n",
    "utilizando excepciones y mostrará la razón exacta del error. Devolver un\n",
    "diccionario con 3 claves: “dia”, “mes” y “año”. Escribir también un programa que\n",
    "permita probar el correcto funcionamiento de la misma."
   ]
  },
  {
   "cell_type": "code",
   "execution_count": 50,
   "id": "4a6dfcb3-d977-4961-8de3-590bc29f4dd2",
   "metadata": {},
   "outputs": [
    {
     "name": "stdout",
     "output_type": "stream",
     "text": [
      "Error, no se ingreso una cadena de texto\n",
      "None\n",
      "Error, la cadena ingresada 44-5577777 no cumple con el formato requerido DD-MM-AAAA\n",
      "None\n",
      "Error, la cadena ingresada 66-55|4444 no cumple con el formato requerido DD-MM-AAAA\n",
      "None\n",
      "Error, la cadena ingresada 666-55-34444 no cumple con el formato requerido DD-MM-AAAA\n",
      "None\n",
      "Error, la cadena ingresada 8-78-1998 no cumple con el formato requerido DD-MM-AAAA\n",
      "None\n",
      "Error, la cadena ingresada ss-44-ddd4 posee al menos un valor DD, MM o AAAA no numerico\n",
      "None\n",
      "{'dia': '05', 'mes': '78', 'año': '1998'}\n",
      "{'dia': '17', 'mes': '08', 'año': '1996'}\n"
     ]
    }
   ],
   "source": [
    "def convert_date(cadena):\n",
    "    dicc = None\n",
    "    try:\n",
    "        \n",
    "        arr = cadena.split(\"-\")    \n",
    "        #Se genera el diccionario temporal para ver si se genera una excepcion durante la generacion del mismo\n",
    "        \n",
    "        dicc_temp = {'dia': arr[0], 'mes': arr[1], 'año': arr[2]}    \n",
    "\n",
    "        if not(len(arr[0]) == 2 and int(arr[0]) > -1 and\n",
    "               len(arr[1]) == 2 and int(arr[1]) > -1 and\n",
    "               len(arr[2]) == 4 and int(arr[2]) > -1) or len(arr) > 3: \n",
    "            \n",
    "            #Genero un index error, para que me diga que el formato es incorrecto, ya que tener menos o más indices es un error.\n",
    "            arr = []\n",
    "            arr[5]\n",
    "            \n",
    "    except AttributeError:\n",
    "        print('Error, no se ingreso una cadena de texto')\n",
    "    \n",
    "    except IndexError:\n",
    "        print('Error, la cadena ingresada', cadena, 'no cumple con el formato requerido DD-MM-AAAA')\n",
    "    \n",
    "    except ValueError:\n",
    "        print('Error, la cadena ingresada', cadena, 'posee al menos un valor DD, MM o AAAA no numerico')    \n",
    "\n",
    "    else: \n",
    "        dicc = dicc_temp\n",
    "        \n",
    "    return dicc\n",
    "\n",
    "#Test Suite\n",
    "\n",
    "#Test Case 1: pasamos un tipo invalido, que no sea cadena\n",
    "\n",
    "print(convert_date(44))\n",
    "\n",
    "#Test Case 2: la cadena no cumple con el formato\n",
    "\n",
    "print(convert_date('44-5577777'))\n",
    "print(convert_date('66-55|4444'))\n",
    "print(convert_date('666-55-34444'))\n",
    "print(convert_date('8-78-1998'))\n",
    "\n",
    "#Test Case 3: la cadena cumple con el formato pero alguno de los valores no es un numero entero\n",
    "\n",
    "print(convert_date('ss-44-ddd4'))\n",
    "\n",
    "#Test Case 4: Camino feliz\n",
    "\n",
    "print(convert_date('05-78-1998'))\n",
    "print(convert_date('17-08-1996'))\n",
    "\n",
    "\n",
    "\n",
    "\n",
    "    "
   ]
  },
  {
   "cell_type": "code",
   "execution_count": null,
   "id": "139cdbca-bf56-4c86-9362-4b62bda178c6",
   "metadata": {},
   "outputs": [],
   "source": []
  },
  {
   "cell_type": "code",
   "execution_count": null,
   "id": "e72d0615-9eb8-4179-98b9-e29afb1ebea4",
   "metadata": {},
   "outputs": [],
   "source": []
  }
 ],
 "metadata": {
  "kernelspec": {
   "display_name": "Python 3 (ipykernel)",
   "language": "python",
   "name": "python3"
  },
  "language_info": {
   "codemirror_mode": {
    "name": "ipython",
    "version": 3
   },
   "file_extension": ".py",
   "mimetype": "text/x-python",
   "name": "python",
   "nbconvert_exporter": "python",
   "pygments_lexer": "ipython3",
   "version": "3.11.2"
  }
 },
 "nbformat": 4,
 "nbformat_minor": 5
}

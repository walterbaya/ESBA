{
 "cells": [
  {
   "cell_type": "markdown",
   "metadata": {},
   "source": [
    "### Ejercicio 1\n",
    "\n",
    "Escribir un programa que dadas dos tuplas de tres elementos, realice el producto de\n",
    "cada elemento existente en la primera tupla con todos los restantes del segundo y\n",
    "almacene cada resultado en otra tupla. Por ejemplo, el producto cartesiano entre\n",
    "(1, 2, 3) y (4, 5, 6); debería retornar: ((4, 5, 6), (8, 10, 12), (12, 15, 18))."
   ]
  },
  {
   "cell_type": "code",
   "execution_count": 58,
   "metadata": {},
   "outputs": [
    {
     "name": "stdout",
     "output_type": "stream",
     "text": [
      "((4, 5, 6), (8, 10, 12), (12, 15, 18))\n"
     ]
    }
   ],
   "source": [
    "def producto_cartesiano(tupla1, tupla2):\n",
    "    tuplaRes = ()\n",
    "    for elem1 in tupla1: \n",
    "        #Armado de la tupla correspondiente al producto del elem con todos los de la tupla2\n",
    "        elemTuplaRes = ()\n",
    "        for elem2 in tupla2:\n",
    "            elemTuplaRes = elemTuplaRes + tuple([elem1 * elem2])\n",
    "        tuplaRes = tuplaRes + tuple([elemTuplaRes])\n",
    "    return tuplaRes \n",
    "\n",
    "print(producto_cartesiano((1,2,3), (4,5,6)))"
   ]
  },
  {
   "cell_type": "markdown",
   "metadata": {},
   "source": [
    "## Ejercicio 2 \n",
    "\n",
    "Crear una función que devuelva un diccionario con contadores por cada uno de los\n",
    "caracteres (no considerar el case) de un texto recibido por parámetro. Ingresar un\n",
    "texto por teclado y mostrar cual es el carácter que mas se repite que no sea el\n",
    "espacio (ascii=32)."
   ]
  },
  {
   "cell_type": "code",
   "execution_count": 7,
   "metadata": {},
   "outputs": [
    {
     "name": "stdout",
     "output_type": "stream",
     "text": [
      "a\n"
     ]
    }
   ],
   "source": [
    "def contador_de_caracteres():\n",
    "    \n",
    "    texto = input(\"Ingrese texto\")\n",
    "    \n",
    "    texto = texto.lower()\n",
    "    \n",
    "    caracteres = {}\n",
    "    for value in texto:\n",
    "        if caracteres.get(value):\n",
    "            caracteres[value]+=1\n",
    "        else:\n",
    "            caracteres[value] = 1\n",
    "\n",
    "    return caracteres\n",
    "\n",
    "def caracter_mas_repetido(caracteres):\n",
    "\n",
    "    lista_filtrada = [tupla for tupla in caracteres.items() if tupla[0] != ' ']\n",
    "    \n",
    "    lista_filtrada_valores = [tupla[1] for tupla in lista_filtrada]\n",
    "\n",
    "    valor_maximo = max(lista_filtrada_valores)        \n",
    "    \n",
    "    caracter = lista_filtrada[lista_filtrada_valores.index(valor_maximo)][0]\n",
    "        \n",
    "    return caracter\n",
    "\n",
    "print(caracter_mas_repetido(contador_de_caracteres()))"
   ]
  },
  {
   "cell_type": "markdown",
   "metadata": {},
   "source": [
    "## Ejercicio 3\n",
    "\n",
    "Como se planteó en el ejercicio 3 de funciones, modificar el código para\n",
    "implementar los datos en un diccionario. Ingresar por teclado un día y un mes e\n",
    "indicar a qué sigo del zodiaco corresponde.\n",
    "* Aries: 21 de marzo al 20 de abril \n",
    "* Tauro: 21 de abril al 20 de mayo\n",
    "* Géminis: 21 de mayo al 21 de junio \n",
    "* Cáncer: 22 de junio al 23 de julio\n",
    "* Leo: 24 de julio al 23 de agosto \n",
    "* Virgo: 24 de agosto al 23 de septiembre\n",
    "* Libra: 24 de septiembre al 22 de octubre\n",
    "* Escorpio: 23 de octubre al 22 de noviembre\n",
    "* Sagitario: 23 de noviembre al 21 de diciembre\n",
    "* Capricornio: 22 de diciembre al 20 de enero\n",
    "* Acuario: 21 de enero al 19 de febrero \n",
    "* Piscis: 20 de febrero al 20 de marzo"
   ]
  },
  {
   "cell_type": "code",
   "execution_count": 11,
   "metadata": {},
   "outputs": [
    {
     "name": "stdout",
     "output_type": "stream",
     "text": [
      "Fecha ingresada invalida\n"
     ]
    }
   ],
   "source": [
    "def es_bisiesto(anio):\n",
    "    \n",
    "    return (anio % 4 == 0 and anio % 100 != 0) or (anio % 400 == 0)\n",
    "    \n",
    "def fecha_valida(dia, mes, anio):\n",
    "    \n",
    "    if mes <= 12 and mes <= 1:\n",
    "        validos = {1: 31, 2: 28, 3: 31, 4: 30, 5: 31, 6: 30, 7: 31, 8: 31, 9: 30, 10: 31, 11: 30, 12: 31}\n",
    "\n",
    "        if es_bisiesto(anio):\n",
    "            validos[2] = 29\n",
    "\n",
    "        return dia < validos[mes]\n",
    "\n",
    "    else:\n",
    "        return False\n",
    "\n",
    "def encontrar_signo():\n",
    "    \n",
    "    mes = int(input(\"Ingrese su mes de nacimiento\"))\n",
    "    dia = int(input(\"Ingrese su dia de nacimiento\"))\n",
    "    anio = int(input(\"Ingrese su anio de nacimiento\"))\n",
    "    \n",
    "    if(fecha_valida(dia, mes, anio)):\n",
    "        signos = {1:((20,\"Capricornio\"), \"Acuario\"),\n",
    "            2:((19,\"Acuario\"),\"Piscis\"),\n",
    "            3:((20,\"Piscis\"),\"Aries\"),\n",
    "            4:((20,\"Aries\"), \"Tauro\"),\n",
    "            5:((20,\"Tauro\"), \"Geminis\"),\n",
    "            6:((21,\"Geminis\"), \"Cancer\"),\n",
    "            7:((23,\"Cancer\"), \"Leo\"),\n",
    "            8:((23, \"Leo\"), \"Virgo\"),\n",
    "            9:((23,\"Virgo\"), \"Libra\"),\n",
    "            10:((22,\"Libra\"), \"Escorpio\"),\n",
    "            11:((22,\"Escorpio\"), \"Sagitario\"),\n",
    "            12:((21,\"Sagitario\"), \"Capricornio\")}\n",
    "\n",
    "        signo = \"\"\n",
    "    \n",
    "        if signos[mes][0][0] > dia:\n",
    "            signo = signos[mes][0][1]\n",
    "        else:\n",
    "            signo = signos[mes][1]\n",
    "                \n",
    "        print(\"El signo al que perteneces es:\", signo)\n",
    "    else:\n",
    "        print(\"Fecha ingresada invalida\")\n",
    "    \n",
    "encontrar_signo()"
   ]
  },
  {
   "cell_type": "markdown",
   "metadata": {},
   "source": [
    "## Ejercicio 4 \n",
    "\n",
    "El código morse es un sistema de representación de letras y números mediante\n",
    "señales emitidas de forma intermitente. Fue desarrollada por Samuel Morse en la\n",
    "invención del telégrafo eléctrico. Cada letra o número es transmitido de forma\n",
    "individual con un código consistente en rayas y puntos.\n",
    "• Desarrollar una función que reciba una frase y retorne por pantalla el\n",
    "código morse respectivo. El código morse de cada letra debe estar\n",
    "separado por un espacio en blanco."
   ]
  },
  {
   "cell_type": "code",
   "execution_count": 45,
   "metadata": {},
   "outputs": [
    {
     "data": {
      "text/plain": [
       "'.... . .-.. .-.. ---  - .... .. ...  .. ...  .-  ... .... .. -'"
      ]
     },
     "execution_count": 45,
     "metadata": {},
     "output_type": "execute_result"
    }
   ],
   "source": [
    "def convert_morse(frase):\n",
    "    diccionario_morse = {\n",
    "        'A': '.-', 'B': '-...', 'C': '-.-.', 'D': '-..', 'E': '.', 'F': '..-.',\n",
    "        'G': '--.', 'H': '....', 'I': '..', 'J': '.---', 'K': '-.-', 'L': '.-..',\n",
    "        'M': '--', 'N': '-.', 'O': '---', 'P': '.--.', 'Q': '--.-', 'R': '.-.',\n",
    "        'S': '...', 'T': '-', 'U': '..-', 'V': '...-', 'W': '.--', 'X': '-..-',\n",
    "        'Y': '-.--', 'Z': '--..',\n",
    "        '1': '.----', '2': '..---', '3': '...--', '4': '....-', '5': '.....',\n",
    "        '6': '-....', '7': '--...', '8': '---..', '9': '----.', '0': '-----'\n",
    "    }\n",
    "    \n",
    "    morse_phrase = \" \"\n",
    "    \n",
    "    for letter in frase.upper():\n",
    "        if letter == ' ':\n",
    "            morse_phrase = morse_phrase + \" \"\n",
    "        else:    \n",
    "            morse_phrase = morse_phrase + \" \" + diccionario_morse.get(letter)   \n",
    "        \n",
    "    return morse_phrase.strip()\n",
    "\n",
    "convert_morse(\"Hello this is a some code i've just written\")"
   ]
  },
  {
   "cell_type": "markdown",
   "metadata": {},
   "source": []
  }
 ],
 "metadata": {
  "kernelspec": {
   "display_name": "Python 3",
   "language": "python",
   "name": "python3"
  },
  "language_info": {
   "codemirror_mode": {
    "name": "ipython",
    "version": 3
   },
   "file_extension": ".py",
   "mimetype": "text/x-python",
   "name": "python",
   "nbconvert_exporter": "python",
   "pygments_lexer": "ipython3",
   "version": "3.12.2"
  }
 },
 "nbformat": 4,
 "nbformat_minor": 2
}

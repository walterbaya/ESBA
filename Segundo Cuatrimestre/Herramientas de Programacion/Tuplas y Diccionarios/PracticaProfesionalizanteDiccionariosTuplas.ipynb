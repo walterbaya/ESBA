{
 "cells": [
  {
   "cell_type": "markdown",
   "metadata": {},
   "source": [
    "### Ejercicio 1\n",
    "\n",
    "Escribir un programa que dadas dos tuplas de tres elementos, realice el producto de\n",
    "cada elemento existente en la primera tupla con todos los restantes del segundo y\n",
    "almacene cada resultado en otra tupla. Por ejemplo, el producto cartesiano entre\n",
    "(1, 2, 3) y (4, 5, 6); debería retornar: ((4, 5, 6), (8, 10, 12), (12, 15, 18))."
   ]
  },
  {
   "cell_type": "code",
   "execution_count": 58,
   "metadata": {},
   "outputs": [
    {
     "name": "stdout",
     "output_type": "stream",
     "text": [
      "((4, 5, 6), (8, 10, 12), (12, 15, 18))\n"
     ]
    }
   ],
   "source": [
    "def producto_cartesiano(tupla1, tupla2):\n",
    "    tuplaRes = ()\n",
    "    for elem1 in tupla1: \n",
    "        #Armado de la tupla correspondiente al producto del elem con todos los de la tupla2\n",
    "        elemTuplaRes = ()\n",
    "        for elem2 in tupla2:\n",
    "            elemTuplaRes = elemTuplaRes + tuple([elem1 * elem2])\n",
    "        tuplaRes = tuplaRes + tuple([elemTuplaRes])\n",
    "    return tuplaRes \n",
    "\n",
    "print(producto_cartesiano((1,2,3), (4,5,6)))"
   ]
  },
  {
   "cell_type": "code",
   "execution_count": null,
   "metadata": {},
   "outputs": [],
   "source": []
  }
 ],
 "metadata": {
  "kernelspec": {
   "display_name": "Python 3",
   "language": "python",
   "name": "python3"
  },
  "language_info": {
   "codemirror_mode": {
    "name": "ipython",
    "version": 3
   },
   "file_extension": ".py",
   "mimetype": "text/x-python",
   "name": "python",
   "nbconvert_exporter": "python",
   "pygments_lexer": "ipython3",
   "version": "3.12.2"
  }
 },
 "nbformat": 4,
 "nbformat_minor": 2
}
